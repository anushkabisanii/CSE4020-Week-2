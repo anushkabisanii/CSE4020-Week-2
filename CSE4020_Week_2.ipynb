{
  "nbformat": 4,
  "nbformat_minor": 0,
  "metadata": {
    "colab": {
      "provenance": []
    },
    "kernelspec": {
      "name": "python3",
      "display_name": "Python 3"
    },
    "language_info": {
      "name": "python"
    }
  },
  "cells": [
    {
      "cell_type": "markdown",
      "source": [
        "## LAB TITLE: MACHINE LEARNING$\\;\\;\\;\\;\\;\\;\\;\\;\\;\\;\\;\\;\\;\\;\\;\\;\\;\\;\\;\\;\\;\\;$ LAB CODE: CSE4020$\\;\\;\\;\\;$Assignment No:2"
      ],
      "metadata": {
        "id": "mnwC9gXqCWmx"
      }
    },
    {
      "cell_type": "code",
      "source": [
        "Num, Name = input(\"Reg. Number:\"), input(\"Name:\")"
      ],
      "metadata": {
        "id": "viyX4gH0Cy7o"
      },
      "execution_count": null,
      "outputs": []
    },
    {
      "cell_type": "markdown",
      "source": [
        "### Task1: Pandas Refresher\n",
        "* Complete the micro certfication on [Practice on Pandas](https://www.kaggle.com/learn/pandas)\n",
        "\n",
        "### Task2: Pandas Refresher\n",
        "* * Complete the supplied Cheat Sheets\n",
        "\n",
        "### Task3: Data Cleaning\n",
        "* Practice the discussed preprocessing techniques in the lab.\n",
        "\n"
      ],
      "metadata": {
        "id": "6phbFIhFCYYq"
      }
    },
    {
      "cell_type": "markdown",
      "source": [
        "#### Insert as many code or text cells as you required and implement the given task."
      ],
      "metadata": {
        "id": "wv2i6tTgC5-R"
      }
    },
    {
      "cell_type": "markdown",
      "source": [
        "### For uploading you need to execute the follwing script"
      ],
      "metadata": {
        "id": "5QkdZU7nDK8S"
      }
    },
    {
      "cell_type": "code",
      "source": [
        "from google.colab import auth\n",
        "auth.authenticate_user()\n",
        "import requests\n",
        "gcloud_token = !gcloud auth print-access-token\n",
        "gcloud_tokeninfo = requests.get('https://www.googleapis.com/oauth2/v3/tokeninfo?access_token=' + gcloud_token[0]).json()\n",
        "user = gcloud_tokeninfo['email']\n",
        "import datetime\n",
        "dt = datetime.datetime.now()\n",
        "x = str(dt).split('.')[0]\n",
        "print(f\"This Script is executed by: \",user, \"at\", x)"
      ],
      "metadata": {
        "id": "kTP8q_3QDSJS"
      },
      "execution_count": null,
      "outputs": []
    },
    {
      "cell_type": "markdown",
      "source": [
        "### Congratulations you have reached to the end of the work sheet\n",
        "\n",
        "*  go to file and print as `PDF` and upload the `PDF` it into MS Teams Link"
      ],
      "metadata": {
        "id": "h51gimtuDX1N"
      }
    }
  ]
}